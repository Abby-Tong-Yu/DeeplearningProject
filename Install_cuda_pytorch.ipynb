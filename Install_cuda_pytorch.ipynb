{
  "nbformat": 4,
  "nbformat_minor": 0,
  "metadata": {
    "colab": {
      "name": "Install_cuda_pytorch.ipynb",
      "version": "0.3.2",
      "provenance": []
    },
    "kernelspec": {
      "name": "python3",
      "display_name": "Python 3"
    },
    "accelerator": "GPU"
  },
  "cells": [
    {
      "metadata": {
        "id": "ei36EfMEg47N",
        "colab_type": "code",
        "outputId": "d2d1ed5f-97f6-4a19-dea1-65d527127f14",
        "colab": {
          "base_uri": "https://localhost:8080/",
          "height": 85
        }
      },
      "cell_type": "code",
      "source": [
        "!nvcc --version"
      ],
      "execution_count": 0,
      "outputs": [
        {
          "output_type": "stream",
          "text": [
            "nvcc: NVIDIA (R) Cuda compiler driver\n",
            "Copyright (c) 2005-2018 NVIDIA Corporation\n",
            "Built on Sat_Aug_25_21:08:01_CDT_2018\n",
            "Cuda compilation tools, release 10.0, V10.0.130\n"
          ],
          "name": "stdout"
        }
      ]
    },
    {
      "metadata": {
        "id": "HlfJMMxChkOZ",
        "colab_type": "code",
        "colab": {}
      },
      "cell_type": "code",
      "source": [
        "!mkdir src"
      ],
      "execution_count": 0,
      "outputs": []
    },
    {
      "metadata": {
        "id": "lulqDaRdh52A",
        "colab_type": "code",
        "colab": {}
      },
      "cell_type": "code",
      "source": [
        "!mv src/SeparableConvolution.py SeparableConvolution.py"
      ],
      "execution_count": 0,
      "outputs": []
    },
    {
      "metadata": {
        "id": "ccMejKwukXV0",
        "colab_type": "code",
        "outputId": "e4c3e870-640f-423e-cad3-8f1d6b5a4e23",
        "colab": {
          "base_uri": "https://localhost:8080/",
          "height": 173
        }
      },
      "cell_type": "code",
      "source": [
        "!pip install bash"
      ],
      "execution_count": 0,
      "outputs": [
        {
          "output_type": "stream",
          "text": [
            "Collecting bash\n",
            "  Downloading https://files.pythonhosted.org/packages/42/30/4870d449947581ff48f213c206d103e9458b0070dbc436c50b1b95007043/bash-0.6.tar.gz\n",
            "Building wheels for collected packages: bash\n",
            "  Building wheel for bash (setup.py) ... \u001b[?25ldone\n",
            "\u001b[?25h  Stored in directory: /root/.cache/pip/wheels/c0/b4/18/f3dbdfc639a686d2a1ba71c9f57e1a6cc6467a9aafbf0c1716\n",
            "Successfully built bash\n",
            "Installing collected packages: bash\n",
            "Successfully installed bash-0.6\n"
          ],
          "name": "stdout"
        }
      ]
    },
    {
      "metadata": {
        "id": "xNaB4Kl2kLHC",
        "colab_type": "code",
        "outputId": "dcb3135f-e942-4032-e132-ef53dc055403",
        "colab": {
          "base_uri": "https://localhost:8080/",
          "height": 615
        }
      },
      "cell_type": "code",
      "source": [
        "!bash install.bash"
      ],
      "execution_count": 0,
      "outputs": [
        {
          "output_type": "stream",
          "text": [
            "In file included from \u001b[01m\u001b[K/usr/local/lib/python3.6/dist-packages/torch/lib/include/THC/THC.h:4:0\u001b[m\u001b[K,\n",
            "                 from \u001b[01m\u001b[Ksrc/SeparableConvolution_kernel.cu:1\u001b[m\u001b[K:\n",
            "\u001b[01m\u001b[K/usr/local/lib/python3.6/dist-packages/torch/lib/include/THC/THCGeneral.h:4:10:\u001b[m\u001b[K \u001b[01;31m\u001b[Kfatal error: \u001b[m\u001b[KTH/THGeneral.h: No such file or directory\n",
            " #include \u001b[01;31m\u001b[K<TH/THGeneral.h>\u001b[m\u001b[K\n",
            "          \u001b[01;31m\u001b[K^~~~~~~~~~~~~~~~\u001b[m\u001b[K\n",
            "compilation terminated.\n",
            "Traceback (most recent call last):\n",
            "  File \"install.py\", line 3, in <module>\n",
            "    import torch.utils.ffi\n",
            "  File \"/usr/local/lib/python3.6/dist-packages/torch/utils/ffi/__init__.py\", line 1, in <module>\n",
            "    raise ImportError(\"torch.utils.ffi is deprecated. Please use cpp extensions instead.\")\n",
            "ImportError: torch.utils.ffi is deprecated. Please use cpp extensions instead.\n",
            "--2019-04-16 19:13:50--  http://content.sniklaus.com/sepconv/network-l1.pytorch\n",
            "Resolving content.sniklaus.com (content.sniklaus.com)... 51.15.58.24\n",
            "Connecting to content.sniklaus.com (content.sniklaus.com)|51.15.58.24|:80... connected.\n",
            "HTTP request sent, awaiting response... 200 OK\n",
            "Length: 86713338 (83M) [application/octet-stream]\n",
            "Saving to: ‘network-l1.pytorch’\n",
            "\n",
            "network-l1.pytorch  100%[===================>]  82.70M  23.1MB/s    in 3.6s    \n",
            "\n",
            "2019-04-16 19:13:54 (23.1 MB/s) - ‘network-l1.pytorch’ saved [86713338/86713338]\n",
            "\n",
            "--2019-04-16 19:13:54--  http://content.sniklaus.com/sepconv/network-lf.pytorch\n",
            "Resolving content.sniklaus.com (content.sniklaus.com)... 51.15.58.24\n",
            "Connecting to content.sniklaus.com (content.sniklaus.com)|51.15.58.24|:80... connected.\n",
            "HTTP request sent, awaiting response... 200 OK\n",
            "Length: 86713362 (83M) [application/octet-stream]\n",
            "Saving to: ‘network-lf.pytorch’\n",
            "\n",
            "network-lf.pytorch  100%[===================>]  82.70M  23.5MB/s    in 3.5s    \n",
            "\n",
            "2019-04-16 19:13:58 (23.5 MB/s) - ‘network-lf.pytorch’ saved [86713362/86713362]\n",
            "\n"
          ],
          "name": "stdout"
        }
      ]
    },
    {
      "metadata": {
        "id": "v-ScoaW3layM",
        "colab_type": "code",
        "outputId": "2f5826bc-788c-457e-daf6-6321cfc6f749",
        "colab": {
          "base_uri": "https://localhost:8080/",
          "height": 54
        }
      },
      "cell_type": "code",
      "source": [
        "!sudo dpkg -i cuda-repo-ubuntu1604_10.1.105-1_amd64.deb"
      ],
      "execution_count": 0,
      "outputs": [
        {
          "output_type": "stream",
          "text": [
            "\u001b[1mdpkg:\u001b[0m \u001b[1;31merror:\u001b[0m cannot access archive 'cuda-repo-ubuntu1604_10.1.105-1_amd64.deb': No such file or directory\n"
          ],
          "name": "stdout"
        }
      ]
    },
    {
      "metadata": {
        "id": "dzSMDN-BmcKr",
        "colab_type": "code",
        "outputId": "b84a7aa6-707c-48d5-8c96-603b2a8bb062",
        "colab": {
          "base_uri": "https://localhost:8080/",
          "height": 224
        }
      },
      "cell_type": "code",
      "source": [
        "!pip3 install http://download.pytorch.org/whl/cu80/torch-0.3.0.post4-cp36-cp36m-linux_x86_64.whl "
      ],
      "execution_count": 0,
      "outputs": [
        {
          "output_type": "stream",
          "text": [
            "Collecting torch==0.3.0.post4 from http://download.pytorch.org/whl/cu80/torch-0.3.0.post4-cp36-cp36m-linux_x86_64.whl\n",
            "\u001b[?25l  Downloading http://download.pytorch.org/whl/cu80/torch-0.3.0.post4-cp36-cp36m-linux_x86_64.whl (592.3MB)\n",
            "\u001b[K    100% |████████████████████████████████| 592.3MB 85.6MB/s \n",
            "\u001b[?25hRequirement already satisfied: pyyaml in /usr/local/lib/python3.6/dist-packages (from torch==0.3.0.post4) (3.13)\n",
            "Requirement already satisfied: numpy in /usr/local/lib/python3.6/dist-packages (from torch==0.3.0.post4) (1.16.2)\n",
            "\u001b[31mfastai 1.0.51 has requirement torch>=1.0.0, but you'll have torch 0.3.0.post4 which is incompatible.\u001b[0m\n",
            "Installing collected packages: torch\n",
            "  Found existing installation: torch 1.0.1.post2\n",
            "    Uninstalling torch-1.0.1.post2:\n",
            "      Successfully uninstalled torch-1.0.1.post2\n",
            "Successfully installed torch-0.3.0.post4\n"
          ],
          "name": "stdout"
        }
      ]
    },
    {
      "metadata": {
        "id": "9D4aeuUEmgg8",
        "colab_type": "code",
        "outputId": "25e989d2-270b-4fab-9261-009b7e708b5b",
        "colab": {
          "base_uri": "https://localhost:8080/",
          "height": 156
        }
      },
      "cell_type": "code",
      "source": [
        "!pip3 install torchvision"
      ],
      "execution_count": 0,
      "outputs": [
        {
          "output_type": "stream",
          "text": [
            "Requirement already satisfied: torchvision in /usr/local/lib/python3.6/dist-packages (0.2.2.post3)\n",
            "Requirement already satisfied: torch in /usr/local/lib/python3.6/dist-packages (from torchvision) (0.3.0.post4)\n",
            "Requirement already satisfied: pillow>=4.1.1 in /usr/local/lib/python3.6/dist-packages (from torchvision) (4.3.0)\n",
            "Requirement already satisfied: numpy in /usr/local/lib/python3.6/dist-packages (from torchvision) (1.16.2)\n",
            "Requirement already satisfied: six in /usr/local/lib/python3.6/dist-packages (from torchvision) (1.11.0)\n",
            "Requirement already satisfied: pyyaml in /usr/local/lib/python3.6/dist-packages (from torch->torchvision) (3.13)\n",
            "Requirement already satisfied: olefile in /usr/local/lib/python3.6/dist-packages (from pillow>=4.1.1->torchvision) (0.46)\n"
          ],
          "name": "stdout"
        }
      ]
    },
    {
      "metadata": {
        "id": "Dt0SVy-Lmyh5",
        "colab_type": "code",
        "colab": {}
      },
      "cell_type": "code",
      "source": [
        "import torch\n",
        "import torch.nn as nn\n",
        "import torchvision.datasets as dsets\n",
        "import torchvision.transforms as transforms\n",
        "from torch.autograd import Variable"
      ],
      "execution_count": 0,
      "outputs": []
    },
    {
      "metadata": {
        "id": "glfs-w5bmzwQ",
        "colab_type": "code",
        "colab": {}
      },
      "cell_type": "code",
      "source": [
        "use_cuda = True"
      ],
      "execution_count": 0,
      "outputs": []
    },
    {
      "metadata": {
        "id": "9LVetBgxnOyi",
        "colab_type": "code",
        "outputId": "b4e65c3f-f07f-45bd-b0a6-025e85ee0d48",
        "colab": {
          "base_uri": "https://localhost:8080/",
          "height": 309
        }
      },
      "cell_type": "code",
      "source": [
        "!cat /etc/*-release"
      ],
      "execution_count": 0,
      "outputs": [
        {
          "output_type": "stream",
          "text": [
            "DISTRIB_ID=Ubuntu\n",
            "DISTRIB_RELEASE=18.04\n",
            "DISTRIB_CODENAME=bionic\n",
            "DISTRIB_DESCRIPTION=\"Ubuntu 18.04.2 LTS\"\n",
            "NAME=\"Ubuntu\"\n",
            "VERSION=\"18.04.2 LTS (Bionic Beaver)\"\n",
            "ID=ubuntu\n",
            "ID_LIKE=debian\n",
            "PRETTY_NAME=\"Ubuntu 18.04.2 LTS\"\n",
            "VERSION_ID=\"18.04\"\n",
            "HOME_URL=\"https://www.ubuntu.com/\"\n",
            "SUPPORT_URL=\"https://help.ubuntu.com/\"\n",
            "BUG_REPORT_URL=\"https://bugs.launchpad.net/ubuntu/\"\n",
            "PRIVACY_POLICY_URL=\"https://www.ubuntu.com/legal/terms-and-policies/privacy-policy\"\n",
            "VERSION_CODENAME=bionic\n",
            "UBUNTU_CODENAME=bionic\n"
          ],
          "name": "stdout"
        }
      ]
    },
    {
      "metadata": {
        "id": "yD8Sry9GnUSp",
        "colab_type": "code",
        "outputId": "d927b1af-41c9-4c32-8ae6-c049f3ac86bb",
        "colab": {
          "base_uri": "https://localhost:8080/",
          "height": 309
        }
      },
      "cell_type": "code",
      "source": [
        "!wget https://developer.nvidia.com/compute/cuda/9.2/Prod2/local_installers/cuda-repo-ubuntu1710-9-2-local_9.2.148-1_amd64"
      ],
      "execution_count": 0,
      "outputs": [
        {
          "output_type": "stream",
          "text": [
            "--2019-04-16 19:26:21--  https://developer.nvidia.com/compute/cuda/9.2/Prod2/local_installers/cuda-repo-ubuntu1710-9-2-local_9.2.148-1_amd64\n",
            "Resolving developer.nvidia.com (developer.nvidia.com)... 192.229.162.216\n",
            "Connecting to developer.nvidia.com (developer.nvidia.com)|192.229.162.216|:443... connected.\n",
            "HTTP request sent, awaiting response... 302 Found\n",
            "Location: https://developer.download.nvidia.com/compute/cuda/9.2/secure/Prod2/local_installers/cuda-repo-ubuntu1710-9-2-local_9.2.148-1_amd64.deb?Rlmiwg1LyNCY8_camOpcfVp8gsUjunhISX2OC9QSX67Vt2MqmK4KvDx3RIHmlcxq6rfIvscXCytKfrWBAHeijIKT4Ki2Vp5mw56b9GRVI2ZwIfZ6v7-eKxw0GHnk79STwFB3IKYY3ex1lZ8Tz9f3OxErYB1L1Uvj5kAUG3MoYCBek5M5j7N1gYeo2vawD_bBgK3fxCgNfrvs0dgXqVCbrw [following]\n",
            "--2019-04-16 19:26:22--  https://developer.download.nvidia.com/compute/cuda/9.2/secure/Prod2/local_installers/cuda-repo-ubuntu1710-9-2-local_9.2.148-1_amd64.deb?Rlmiwg1LyNCY8_camOpcfVp8gsUjunhISX2OC9QSX67Vt2MqmK4KvDx3RIHmlcxq6rfIvscXCytKfrWBAHeijIKT4Ki2Vp5mw56b9GRVI2ZwIfZ6v7-eKxw0GHnk79STwFB3IKYY3ex1lZ8Tz9f3OxErYB1L1Uvj5kAUG3MoYCBek5M5j7N1gYeo2vawD_bBgK3fxCgNfrvs0dgXqVCbrw\n",
            "Resolving developer.download.nvidia.com (developer.download.nvidia.com)... 192.229.211.70, 2606:2800:21f:3aa:dcf:37b:1ed6:1fb\n",
            "Connecting to developer.download.nvidia.com (developer.download.nvidia.com)|192.229.211.70|:443... connected.\n",
            "HTTP request sent, awaiting response... 200 OK\n",
            "Length: 1268794766 (1.2G) [application/x-deb]\n",
            "Saving to: ‘cuda-repo-ubuntu1710-9-2-local_9.2.148-1_amd64’\n",
            "\n",
            "cuda-repo-ubuntu171 100%[===================>]   1.18G   124MB/s    in 8.0s    \n",
            "\n",
            "2019-04-16 19:26:30 (152 MB/s) - ‘cuda-repo-ubuntu1710-9-2-local_9.2.148-1_amd64’ saved [1268794766/1268794766]\n",
            "\n"
          ],
          "name": "stdout"
        }
      ]
    },
    {
      "metadata": {
        "id": "AijUEqo-nUPv",
        "colab_type": "code",
        "outputId": "e29c3fbf-f9cd-4f14-ba8c-76edd4dbfa38",
        "colab": {
          "base_uri": "https://localhost:8080/",
          "height": 139
        }
      },
      "cell_type": "code",
      "source": [
        "!ls"
      ],
      "execution_count": 0,
      "outputs": [
        {
          "output_type": "stream",
          "text": [
            "cuda-repo-ubuntu1710-9-2-local_9.2.148-1_amd64\t__pycache__\n",
            "images\t\t\t\t\t\trun.py\n",
            "install.bash\t\t\t\t\tsample_data\n",
            "install.py\t\t\t\t\tSeparableConvolution.py\n",
            "network-l1.pytorch\t\t\t\tsrc\n",
            "network-lf.pytorch\n"
          ],
          "name": "stdout"
        }
      ]
    },
    {
      "metadata": {
        "id": "CNrO9lZKnUNA",
        "colab_type": "code",
        "outputId": "c870ecb1-f6f2-4601-83ee-5550990d96a5",
        "colab": {
          "base_uri": "https://localhost:8080/",
          "height": 122
        }
      },
      "cell_type": "code",
      "source": [
        "!dpkg -i cuda-repo-ubuntu1710-9-2-local_9.2.148-1_amd64"
      ],
      "execution_count": 0,
      "outputs": [
        {
          "output_type": "stream",
          "text": [
            "Selecting previously unselected package cuda-repo-ubuntu1710-9-2-local.\n",
            "(Reading database ... 131304 files and directories currently installed.)\n",
            "Preparing to unpack cuda-repo-ubuntu1710-9-2-local_9.2.148-1_amd64 ...\n",
            "Unpacking cuda-repo-ubuntu1710-9-2-local (9.2.148-1) ...\n",
            "Setting up cuda-repo-ubuntu1710-9-2-local (9.2.148-1) ...\n"
          ],
          "name": "stdout"
        }
      ]
    },
    {
      "metadata": {
        "id": "Q1RrN6AFnb_1",
        "colab_type": "code",
        "outputId": "eb1bc47a-73d1-44c7-b1cf-e823d99cee72",
        "colab": {
          "base_uri": "https://localhost:8080/",
          "height": 34
        }
      },
      "cell_type": "code",
      "source": [
        "!ls /var/ | grep cuda-repo"
      ],
      "execution_count": 0,
      "outputs": [
        {
          "output_type": "stream",
          "text": [
            "cuda-repo-9-2-local\n"
          ],
          "name": "stdout"
        }
      ]
    },
    {
      "metadata": {
        "id": "SJtbYagUnb6G",
        "colab_type": "code",
        "outputId": "4d1633fd-11e5-4e02-8788-f4bc84b30ac2",
        "colab": {
          "base_uri": "https://localhost:8080/",
          "height": 34
        }
      },
      "cell_type": "code",
      "source": [
        "!apt-key add /var/cuda-repo-9-2-local/7fa2af80.pub"
      ],
      "execution_count": 0,
      "outputs": [
        {
          "output_type": "stream",
          "text": [
            "OK\n"
          ],
          "name": "stdout"
        }
      ]
    },
    {
      "metadata": {
        "id": "L729cQcQnb4C",
        "colab_type": "code",
        "outputId": "9fc41057-3ef0-4a14-e566-305e2decfb19",
        "colab": {
          "base_uri": "https://localhost:8080/",
          "height": 530
        }
      },
      "cell_type": "code",
      "source": [
        "!apt-get update"
      ],
      "execution_count": 0,
      "outputs": [
        {
          "output_type": "stream",
          "text": [
            "\r0% [Working]\r            \rGet:1 file:/var/cuda-repo-9-2-local  InRelease\n",
            "\r            \rIgn:1 file:/var/cuda-repo-9-2-local  InRelease\n",
            "\r0% [Connecting to archive.ubuntu.com] [Connecting to cloud.r-project.org] [Conn\r                                                                               \rGet:2 file:/var/cuda-repo-9-2-local  Release [574 B]\n",
            "\r0% [Connecting to archive.ubuntu.com] [Connecting to security.ubuntu.com] [Conn\r                                                                               \rGet:2 file:/var/cuda-repo-9-2-local  Release [574 B]\n",
            "\r0% [2 Release 0 B/574 B 0%] [Connecting to archive.ubuntu.com] [Connecting to s\r0% [Connecting to archive.ubuntu.com] [Connecting to security.ubuntu.com] [Conn\r                                                                               \rGet:3 file:/var/cuda-repo-9-2-local  Release.gpg [801 B]\n",
            "\r0% [Connecting to archive.ubuntu.com] [Connecting to security.ubuntu.com] [Conn\r                                                                               \rGet:3 file:/var/cuda-repo-9-2-local  Release.gpg [801 B]\n",
            "\r0% [3 Release.gpg 0 B/801 B 0%] [Connecting to archive.ubuntu.com] [Connecting \r0% [Connecting to archive.ubuntu.com] [Connecting to security.ubuntu.com] [Conn\r0% [3 Release.gpg gpgv 574 B] [Connecting to archive.ubuntu.com (91.189.91.23)]\r                                                                               \rHit:4 http://archive.ubuntu.com/ubuntu bionic InRelease\n",
            "\r0% [3 Release.gpg gpgv 574 B] [Waiting for headers] [Connecting to security.ubu\r                                                                               \rGet:5 http://archive.ubuntu.com/ubuntu bionic-updates InRelease [88.7 kB]\n",
            "Ign:6 https://developer.download.nvidia.com/compute/cuda/repos/ubuntu1804/x86_64  InRelease\n",
            "Hit:7 http://ppa.launchpad.net/graphics-drivers/ppa/ubuntu bionic InRelease\n",
            "Get:8 https://cloud.r-project.org/bin/linux/ubuntu bionic-cran35/ InRelease [3,609 B]\n",
            "Get:9 http://archive.ubuntu.com/ubuntu bionic-backports InRelease [74.6 kB]\n",
            "Ign:10 https://developer.download.nvidia.com/compute/machine-learning/repos/ubuntu1804/x86_64  InRelease\n",
            "Get:11 file:/var/cuda-repo-9-2-local  Packages [18.8 kB]\n",
            "Hit:12 https://developer.download.nvidia.com/compute/cuda/repos/ubuntu1804/x86_64  Release\n",
            "Get:13 http://security.ubuntu.com/ubuntu bionic-security InRelease [88.7 kB]\n",
            "Hit:14 https://developer.download.nvidia.com/compute/machine-learning/repos/ubuntu1804/x86_64  Release\n",
            "Get:15 http://ppa.launchpad.net/marutter/c2d4u3.5/ubuntu bionic InRelease [15.4 kB]\n",
            "Get:16 https://cloud.r-project.org/bin/linux/ubuntu bionic-cran35/ Packages [60.4 kB]\n",
            "Get:17 http://archive.ubuntu.com/ubuntu bionic-updates/main amd64 Packages [752 kB]\n",
            "Get:20 http://ppa.launchpad.net/marutter/c2d4u3.5/ubuntu bionic/main Sources [1,636 kB]\n",
            "Get:21 http://security.ubuntu.com/ubuntu bionic-security/main amd64 Packages [410 kB]\n",
            "Get:22 http://security.ubuntu.com/ubuntu bionic-security/universe amd64 Packages [301 kB]\n",
            "Get:23 http://security.ubuntu.com/ubuntu bionic-security/multiverse amd64 Packages [4,171 B]\n",
            "Get:24 http://archive.ubuntu.com/ubuntu bionic-updates/universe amd64 Packages [1,103 kB]\n",
            "Get:25 http://archive.ubuntu.com/ubuntu bionic-updates/multiverse amd64 Packages [7,238 B]\n",
            "Get:26 http://ppa.launchpad.net/marutter/c2d4u3.5/ubuntu bionic/main amd64 Packages [786 kB]\n",
            "Fetched 5,331 kB in 12s (446 kB/s)\n",
            "Reading package lists... Done\n"
          ],
          "name": "stdout"
        }
      ]
    },
    {
      "metadata": {
        "id": "YeWVHPzcnb2C",
        "colab_type": "code",
        "outputId": "10bfc80c-e78b-48ec-9c50-86fc1878d0e1",
        "colab": {
          "base_uri": "https://localhost:8080/",
          "height": 5341
        }
      },
      "cell_type": "code",
      "source": [
        "!apt-get install cuda"
      ],
      "execution_count": 0,
      "outputs": [
        {
          "output_type": "stream",
          "text": [
            "Reading package lists... Done\n",
            "Building dependency tree       \n",
            "Reading state information... Done\n",
            "The following package was automatically installed and is no longer required:\n",
            "  libnvidia-common-410\n",
            "Use 'apt autoremove' to remove it.\n",
            "The following additional packages will be installed:\n",
            "  cuda-10-1 cuda-command-line-tools-10-1 cuda-compiler-10-1 cuda-cudart-10-1\n",
            "  cuda-cudart-dev-10-1 cuda-cufft-10-1 cuda-cufft-dev-10-1 cuda-cuobjdump-10-1\n",
            "  cuda-cupti-10-1 cuda-curand-10-1 cuda-curand-dev-10-1 cuda-cusolver-10-1\n",
            "  cuda-cusolver-dev-10-1 cuda-cusparse-10-1 cuda-cusparse-dev-10-1\n",
            "  cuda-demo-suite-10-1 cuda-documentation-10-1 cuda-driver-dev-10-1\n",
            "  cuda-gdb-10-1 cuda-gpu-library-advisor-10-1 cuda-libraries-10-1\n",
            "  cuda-libraries-dev-10-1 cuda-license-10-1 cuda-memcheck-10-1\n",
            "  cuda-misc-headers-10-1 cuda-npp-10-1 cuda-npp-dev-10-1 cuda-nsight-10-1\n",
            "  cuda-nsight-compute-10-1 cuda-nsight-systems-10-1 cuda-nvcc-10-1\n",
            "  cuda-nvdisasm-10-1 cuda-nvgraph-10-1 cuda-nvgraph-dev-10-1 cuda-nvjpeg-10-1\n",
            "  cuda-nvjpeg-dev-10-1 cuda-nvml-dev-10-1 cuda-nvprof-10-1 cuda-nvprune-10-1\n",
            "  cuda-nvrtc-10-1 cuda-nvrtc-dev-10-1 cuda-nvtx-10-1 cuda-nvvp-10-1\n",
            "  cuda-runtime-10-1 cuda-samples-10-1 cuda-sanitizer-api-10-1\n",
            "  cuda-toolkit-10-1 cuda-tools-10-1 cuda-visual-tools-10-1 libcublas-dev\n",
            "  libcublas10\n",
            "The following NEW packages will be installed:\n",
            "  cuda cuda-10-1 cuda-command-line-tools-10-1 cuda-compiler-10-1\n",
            "  cuda-cudart-10-1 cuda-cudart-dev-10-1 cuda-cufft-10-1 cuda-cufft-dev-10-1\n",
            "  cuda-cuobjdump-10-1 cuda-cupti-10-1 cuda-curand-10-1 cuda-curand-dev-10-1\n",
            "  cuda-cusolver-10-1 cuda-cusolver-dev-10-1 cuda-cusparse-10-1\n",
            "  cuda-cusparse-dev-10-1 cuda-demo-suite-10-1 cuda-documentation-10-1\n",
            "  cuda-driver-dev-10-1 cuda-gdb-10-1 cuda-gpu-library-advisor-10-1\n",
            "  cuda-libraries-10-1 cuda-libraries-dev-10-1 cuda-license-10-1\n",
            "  cuda-memcheck-10-1 cuda-misc-headers-10-1 cuda-npp-10-1 cuda-npp-dev-10-1\n",
            "  cuda-nsight-10-1 cuda-nsight-compute-10-1 cuda-nsight-systems-10-1\n",
            "  cuda-nvcc-10-1 cuda-nvdisasm-10-1 cuda-nvgraph-10-1 cuda-nvgraph-dev-10-1\n",
            "  cuda-nvjpeg-10-1 cuda-nvjpeg-dev-10-1 cuda-nvml-dev-10-1 cuda-nvprof-10-1\n",
            "  cuda-nvprune-10-1 cuda-nvrtc-10-1 cuda-nvrtc-dev-10-1 cuda-nvtx-10-1\n",
            "  cuda-nvvp-10-1 cuda-runtime-10-1 cuda-samples-10-1 cuda-sanitizer-api-10-1\n",
            "  cuda-toolkit-10-1 cuda-tools-10-1 cuda-visual-tools-10-1 libcublas-dev\n",
            "  libcublas10\n",
            "0 upgraded, 52 newly installed, 0 to remove and 37 not upgraded.\n",
            "Need to get 1,532 MB of archives.\n",
            "After this operation, 3,862 MB of additional disk space will be used.\n",
            "Get:1 https://developer.download.nvidia.com/compute/cuda/repos/ubuntu1804/x86_64  cuda-license-10-1 10.1.105-1 [16.3 kB]\n",
            "Get:2 https://developer.download.nvidia.com/compute/cuda/repos/ubuntu1804/x86_64  cuda-misc-headers-10-1 10.1.105-1 [692 kB]\n",
            "Get:3 https://developer.download.nvidia.com/compute/cuda/repos/ubuntu1804/x86_64  cuda-nvcc-10-1 10.1.105-1 [18.3 MB]\n",
            "Get:4 https://developer.download.nvidia.com/compute/cuda/repos/ubuntu1804/x86_64  cuda-cuobjdump-10-1 10.1.105-1 [81.5 kB]\n",
            "Get:5 https://developer.download.nvidia.com/compute/cuda/repos/ubuntu1804/x86_64  cuda-nvprune-10-1 10.1.105-1 [36.9 kB]\n",
            "Get:6 https://developer.download.nvidia.com/compute/cuda/repos/ubuntu1804/x86_64  cuda-compiler-10-1 10.1.105-1 [2,538 B]\n",
            "Get:7 https://developer.download.nvidia.com/compute/cuda/repos/ubuntu1804/x86_64  cuda-nvdisasm-10-1 10.1.105-1 [22.1 MB]\n",
            "Get:8 https://developer.download.nvidia.com/compute/cuda/repos/ubuntu1804/x86_64  cuda-gdb-10-1 10.1.105-1 [2,768 kB]\n",
            "Get:9 https://developer.download.nvidia.com/compute/cuda/repos/ubuntu1804/x86_64  cuda-nvprof-10-1 10.1.105-1 [5,061 kB]\n",
            "Get:10 https://developer.download.nvidia.com/compute/cuda/repos/ubuntu1804/x86_64  cuda-sanitizer-api-10-1 10.1.105-1 [514 kB]\n",
            "Get:11 https://developer.download.nvidia.com/compute/cuda/repos/ubuntu1804/x86_64  cuda-memcheck-10-1 10.1.105-1 [139 kB]\n",
            "Get:12 https://developer.download.nvidia.com/compute/cuda/repos/ubuntu1804/x86_64  cuda-cudart-10-1 10.1.105-1 [110 kB]\n",
            "Get:13 https://developer.download.nvidia.com/compute/cuda/repos/ubuntu1804/x86_64  cuda-driver-dev-10-1 10.1.105-1 [12.1 kB]\n",
            "Get:14 https://developer.download.nvidia.com/compute/cuda/repos/ubuntu1804/x86_64  cuda-cudart-dev-10-1 10.1.105-1 [447 kB]\n",
            "Get:15 https://developer.download.nvidia.com/compute/cuda/repos/ubuntu1804/x86_64  cuda-cupti-10-1 10.1.105-1 [10.4 MB]\n",
            "Get:16 https://developer.download.nvidia.com/compute/cuda/repos/ubuntu1804/x86_64  cuda-gpu-library-advisor-10-1 10.1.105-1 [1,003 kB]\n",
            "Get:17 https://developer.download.nvidia.com/compute/cuda/repos/ubuntu1804/x86_64  cuda-nvtx-10-1 10.1.105-1 [38.8 kB]\n",
            "Get:18 https://developer.download.nvidia.com/compute/cuda/repos/ubuntu1804/x86_64  cuda-command-line-tools-10-1 10.1.105-1 [26.9 kB]\n",
            "Get:19 https://developer.download.nvidia.com/compute/cuda/repos/ubuntu1804/x86_64  cuda-nsight-10-1 10.1.105-1 [2,590 B]\n",
            "Get:20 https://developer.download.nvidia.com/compute/cuda/repos/ubuntu1804/x86_64  cuda-nvvp-10-1 10.1.105-1 [2,538 B]\n",
            "Get:21 https://developer.download.nvidia.com/compute/cuda/repos/ubuntu1804/x86_64  cuda-nvrtc-10-1 10.1.105-1 [6,283 kB]\n",
            "Get:22 https://developer.download.nvidia.com/compute/cuda/repos/ubuntu1804/x86_64  cuda-nvrtc-dev-10-1 10.1.105-1 [9,362 B]\n",
            "Get:23 https://developer.download.nvidia.com/compute/cuda/repos/ubuntu1804/x86_64  cuda-cusolver-10-1 10.1.105-1 [47.3 MB]\n",
            "Get:24 https://developer.download.nvidia.com/compute/cuda/repos/ubuntu1804/x86_64  cuda-cusolver-dev-10-1 10.1.105-1 [15.3 MB]\n",
            "Get:25 https://developer.download.nvidia.com/compute/cuda/repos/ubuntu1804/x86_64  libcublas10 10.1.0.105-1 [42.5 MB]\n",
            "Get:26 https://developer.download.nvidia.com/compute/cuda/repos/ubuntu1804/x86_64  libcublas-dev 10.1.0.105-1 [39.9 MB]\n",
            "Get:27 https://developer.download.nvidia.com/compute/cuda/repos/ubuntu1804/x86_64  cuda-cufft-10-1 10.1.105-1 [65.7 MB]\n",
            "Get:28 https://developer.download.nvidia.com/compute/cuda/repos/ubuntu1804/x86_64  cuda-cufft-dev-10-1 10.1.105-1 [134 MB]\n",
            "Get:29 https://developer.download.nvidia.com/compute/cuda/repos/ubuntu1804/x86_64  cuda-curand-10-1 10.1.105-1 [38.9 MB]\n",
            "Get:30 https://developer.download.nvidia.com/compute/cuda/repos/ubuntu1804/x86_64  cuda-curand-dev-10-1 10.1.105-1 [58.1 MB]\n",
            "Get:31 https://developer.download.nvidia.com/compute/cuda/repos/ubuntu1804/x86_64  cuda-cusparse-10-1 10.1.105-1 [39.0 MB]\n",
            "Get:32 https://developer.download.nvidia.com/compute/cuda/repos/ubuntu1804/x86_64  cuda-cusparse-dev-10-1 10.1.105-1 [39.4 MB]\n",
            "Get:33 https://developer.download.nvidia.com/compute/cuda/repos/ubuntu1804/x86_64  cuda-npp-10-1 10.1.105-1 [54.5 MB]\n",
            "Get:34 https://developer.download.nvidia.com/compute/cuda/repos/ubuntu1804/x86_64  cuda-npp-dev-10-1 10.1.105-1 [55.2 MB]\n",
            "Get:35 https://developer.download.nvidia.com/compute/cuda/repos/ubuntu1804/x86_64  cuda-nvml-dev-10-1 10.1.105-1 [52.6 kB]\n",
            "Get:36 https://developer.download.nvidia.com/compute/cuda/repos/ubuntu1804/x86_64  cuda-nvjpeg-10-1 10.1.105-1 [942 kB]\n",
            "Get:37 https://developer.download.nvidia.com/compute/cuda/repos/ubuntu1804/x86_64  cuda-nvjpeg-dev-10-1 10.1.105-1 [871 kB]\n",
            "Get:38 https://developer.download.nvidia.com/compute/cuda/repos/ubuntu1804/x86_64  cuda-nsight-compute-10-1 10.1.105-1 [192 MB]\n",
            "Get:39 https://developer.download.nvidia.com/compute/cuda/repos/ubuntu1804/x86_64  cuda-nsight-systems-10-1 10.1.105-1 [50.6 MB]\n",
            "Get:40 https://developer.download.nvidia.com/compute/cuda/repos/ubuntu1804/x86_64  cuda-nvgraph-10-1 10.1.105-1 [43.3 MB]\n",
            "Get:41 https://developer.download.nvidia.com/compute/cuda/repos/ubuntu1804/x86_64  cuda-nvgraph-dev-10-1 10.1.105-1 [34.2 MB]\n",
            "Get:42 https://developer.download.nvidia.com/compute/cuda/repos/ubuntu1804/x86_64  cuda-visual-tools-10-1 10.1.105-1 [398 MB]\n",
            "Get:43 https://developer.download.nvidia.com/compute/cuda/repos/ubuntu1804/x86_64  cuda-tools-10-1 10.1.105-1 [2,504 B]\n",
            "Get:44 https://developer.download.nvidia.com/compute/cuda/repos/ubuntu1804/x86_64  cuda-samples-10-1 10.1.105-1 [60.8 MB]\n",
            "Get:45 https://developer.download.nvidia.com/compute/cuda/repos/ubuntu1804/x86_64  cuda-documentation-10-1 10.1.105-1 [50.2 MB]\n",
            "Get:46 https://developer.download.nvidia.com/compute/cuda/repos/ubuntu1804/x86_64  cuda-libraries-dev-10-1 10.1.105-1 [2,620 B]\n",
            "Get:47 https://developer.download.nvidia.com/compute/cuda/repos/ubuntu1804/x86_64  cuda-toolkit-10-1 10.1.105-1 [2,832 B]\n",
            "Get:48 https://developer.download.nvidia.com/compute/cuda/repos/ubuntu1804/x86_64  cuda-libraries-10-1 10.1.105-1 [2,598 B]\n",
            "Get:49 https://developer.download.nvidia.com/compute/cuda/repos/ubuntu1804/x86_64  cuda-runtime-10-1 10.1.105-1 [2,536 B]\n",
            "Get:50 https://developer.download.nvidia.com/compute/cuda/repos/ubuntu1804/x86_64  cuda-demo-suite-10-1 10.1.105-1 [3,857 kB]\n",
            "Get:51 https://developer.download.nvidia.com/compute/cuda/repos/ubuntu1804/x86_64  cuda-10-1 10.1.105-1 [2,570 B]\n",
            "Get:52 https://developer.download.nvidia.com/compute/cuda/repos/ubuntu1804/x86_64  cuda 10.1.105-1 [2,514 B]\n",
            "Fetched 1,532 MB in 24s (64.2 MB/s)\n",
            "Extracting templates from packages: 100%\n",
            "Selecting previously unselected package cuda-license-10-1.\n",
            "(Reading database ... 131377 files and directories currently installed.)\n",
            "Preparing to unpack .../00-cuda-license-10-1_10.1.105-1_amd64.deb ...\n",
            "Unpacking cuda-license-10-1 (10.1.105-1) ...\n",
            "Selecting previously unselected package cuda-misc-headers-10-1.\n",
            "Preparing to unpack .../01-cuda-misc-headers-10-1_10.1.105-1_amd64.deb ...\n",
            "Unpacking cuda-misc-headers-10-1 (10.1.105-1) ...\n",
            "Selecting previously unselected package cuda-nvcc-10-1.\n",
            "Preparing to unpack .../02-cuda-nvcc-10-1_10.1.105-1_amd64.deb ...\n",
            "Unpacking cuda-nvcc-10-1 (10.1.105-1) ...\n",
            "Selecting previously unselected package cuda-cuobjdump-10-1.\n",
            "Preparing to unpack .../03-cuda-cuobjdump-10-1_10.1.105-1_amd64.deb ...\n",
            "Unpacking cuda-cuobjdump-10-1 (10.1.105-1) ...\n",
            "Selecting previously unselected package cuda-nvprune-10-1.\n",
            "Preparing to unpack .../04-cuda-nvprune-10-1_10.1.105-1_amd64.deb ...\n",
            "Unpacking cuda-nvprune-10-1 (10.1.105-1) ...\n",
            "Selecting previously unselected package cuda-compiler-10-1.\n",
            "Preparing to unpack .../05-cuda-compiler-10-1_10.1.105-1_amd64.deb ...\n",
            "Unpacking cuda-compiler-10-1 (10.1.105-1) ...\n",
            "Selecting previously unselected package cuda-nvdisasm-10-1.\n",
            "Preparing to unpack .../06-cuda-nvdisasm-10-1_10.1.105-1_amd64.deb ...\n",
            "Unpacking cuda-nvdisasm-10-1 (10.1.105-1) ...\n",
            "Selecting previously unselected package cuda-gdb-10-1.\n",
            "Preparing to unpack .../07-cuda-gdb-10-1_10.1.105-1_amd64.deb ...\n",
            "Unpacking cuda-gdb-10-1 (10.1.105-1) ...\n",
            "Selecting previously unselected package cuda-nvprof-10-1.\n",
            "Preparing to unpack .../08-cuda-nvprof-10-1_10.1.105-1_amd64.deb ...\n",
            "Unpacking cuda-nvprof-10-1 (10.1.105-1) ...\n",
            "Selecting previously unselected package cuda-sanitizer-api-10-1.\n",
            "Preparing to unpack .../09-cuda-sanitizer-api-10-1_10.1.105-1_amd64.deb ...\n",
            "Unpacking cuda-sanitizer-api-10-1 (10.1.105-1) ...\n",
            "Selecting previously unselected package cuda-memcheck-10-1.\n",
            "Preparing to unpack .../10-cuda-memcheck-10-1_10.1.105-1_amd64.deb ...\n",
            "Unpacking cuda-memcheck-10-1 (10.1.105-1) ...\n",
            "Selecting previously unselected package cuda-cudart-10-1.\n",
            "Preparing to unpack .../11-cuda-cudart-10-1_10.1.105-1_amd64.deb ...\n",
            "Unpacking cuda-cudart-10-1 (10.1.105-1) ...\n",
            "Selecting previously unselected package cuda-driver-dev-10-1.\n",
            "Preparing to unpack .../12-cuda-driver-dev-10-1_10.1.105-1_amd64.deb ...\n",
            "Unpacking cuda-driver-dev-10-1 (10.1.105-1) ...\n",
            "Selecting previously unselected package cuda-cudart-dev-10-1.\n",
            "Preparing to unpack .../13-cuda-cudart-dev-10-1_10.1.105-1_amd64.deb ...\n",
            "Unpacking cuda-cudart-dev-10-1 (10.1.105-1) ...\n",
            "Selecting previously unselected package cuda-cupti-10-1.\n",
            "Preparing to unpack .../14-cuda-cupti-10-1_10.1.105-1_amd64.deb ...\n",
            "Unpacking cuda-cupti-10-1 (10.1.105-1) ...\n",
            "Selecting previously unselected package cuda-gpu-library-advisor-10-1.\n",
            "Preparing to unpack .../15-cuda-gpu-library-advisor-10-1_10.1.105-1_amd64.deb ...\n",
            "Unpacking cuda-gpu-library-advisor-10-1 (10.1.105-1) ...\n",
            "Selecting previously unselected package cuda-nvtx-10-1.\n",
            "Preparing to unpack .../16-cuda-nvtx-10-1_10.1.105-1_amd64.deb ...\n",
            "Unpacking cuda-nvtx-10-1 (10.1.105-1) ...\n",
            "Selecting previously unselected package cuda-command-line-tools-10-1.\n",
            "Preparing to unpack .../17-cuda-command-line-tools-10-1_10.1.105-1_amd64.deb ...\n",
            "Unpacking cuda-command-line-tools-10-1 (10.1.105-1) ...\n",
            "Selecting previously unselected package cuda-nsight-10-1.\n",
            "Preparing to unpack .../18-cuda-nsight-10-1_10.1.105-1_amd64.deb ...\n",
            "Unpacking cuda-nsight-10-1 (10.1.105-1) ...\n",
            "Selecting previously unselected package cuda-nvvp-10-1.\n",
            "Preparing to unpack .../19-cuda-nvvp-10-1_10.1.105-1_amd64.deb ...\n",
            "Unpacking cuda-nvvp-10-1 (10.1.105-1) ...\n",
            "Selecting previously unselected package cuda-nvrtc-10-1.\n",
            "Preparing to unpack .../20-cuda-nvrtc-10-1_10.1.105-1_amd64.deb ...\n",
            "Unpacking cuda-nvrtc-10-1 (10.1.105-1) ...\n",
            "Selecting previously unselected package cuda-nvrtc-dev-10-1.\n",
            "Preparing to unpack .../21-cuda-nvrtc-dev-10-1_10.1.105-1_amd64.deb ...\n",
            "Unpacking cuda-nvrtc-dev-10-1 (10.1.105-1) ...\n",
            "Selecting previously unselected package cuda-cusolver-10-1.\n",
            "Preparing to unpack .../22-cuda-cusolver-10-1_10.1.105-1_amd64.deb ...\n",
            "Unpacking cuda-cusolver-10-1 (10.1.105-1) ...\n",
            "Selecting previously unselected package cuda-cusolver-dev-10-1.\n",
            "Preparing to unpack .../23-cuda-cusolver-dev-10-1_10.1.105-1_amd64.deb ...\n",
            "Unpacking cuda-cusolver-dev-10-1 (10.1.105-1) ...\n",
            "Selecting previously unselected package libcublas10.\n",
            "Preparing to unpack .../24-libcublas10_10.1.0.105-1_amd64.deb ...\n",
            "Unpacking libcublas10 (10.1.0.105-1) ...\n",
            "Selecting previously unselected package libcublas-dev.\n",
            "Preparing to unpack .../25-libcublas-dev_10.1.0.105-1_amd64.deb ...\n",
            "Unpacking libcublas-dev (10.1.0.105-1) ...\n",
            "Selecting previously unselected package cuda-cufft-10-1.\n",
            "Preparing to unpack .../26-cuda-cufft-10-1_10.1.105-1_amd64.deb ...\n",
            "Unpacking cuda-cufft-10-1 (10.1.105-1) ...\n",
            "Selecting previously unselected package cuda-cufft-dev-10-1.\n",
            "Preparing to unpack .../27-cuda-cufft-dev-10-1_10.1.105-1_amd64.deb ...\n",
            "Unpacking cuda-cufft-dev-10-1 (10.1.105-1) ...\n",
            "Selecting previously unselected package cuda-curand-10-1.\n",
            "Preparing to unpack .../28-cuda-curand-10-1_10.1.105-1_amd64.deb ...\n",
            "Unpacking cuda-curand-10-1 (10.1.105-1) ...\n",
            "Selecting previously unselected package cuda-curand-dev-10-1.\n",
            "Preparing to unpack .../29-cuda-curand-dev-10-1_10.1.105-1_amd64.deb ...\n",
            "Unpacking cuda-curand-dev-10-1 (10.1.105-1) ...\n",
            "Selecting previously unselected package cuda-cusparse-10-1.\n",
            "Preparing to unpack .../30-cuda-cusparse-10-1_10.1.105-1_amd64.deb ...\n",
            "Unpacking cuda-cusparse-10-1 (10.1.105-1) ...\n",
            "Selecting previously unselected package cuda-cusparse-dev-10-1.\n",
            "Preparing to unpack .../31-cuda-cusparse-dev-10-1_10.1.105-1_amd64.deb ...\n",
            "Unpacking cuda-cusparse-dev-10-1 (10.1.105-1) ...\n",
            "Selecting previously unselected package cuda-npp-10-1.\n",
            "Preparing to unpack .../32-cuda-npp-10-1_10.1.105-1_amd64.deb ...\n",
            "Unpacking cuda-npp-10-1 (10.1.105-1) ...\n",
            "Selecting previously unselected package cuda-npp-dev-10-1.\n",
            "Preparing to unpack .../33-cuda-npp-dev-10-1_10.1.105-1_amd64.deb ...\n",
            "Unpacking cuda-npp-dev-10-1 (10.1.105-1) ...\n",
            "Selecting previously unselected package cuda-nvml-dev-10-1.\n",
            "Preparing to unpack .../34-cuda-nvml-dev-10-1_10.1.105-1_amd64.deb ...\n",
            "Unpacking cuda-nvml-dev-10-1 (10.1.105-1) ...\n",
            "Selecting previously unselected package cuda-nvjpeg-10-1.\n",
            "Preparing to unpack .../35-cuda-nvjpeg-10-1_10.1.105-1_amd64.deb ...\n",
            "Unpacking cuda-nvjpeg-10-1 (10.1.105-1) ...\n",
            "Selecting previously unselected package cuda-nvjpeg-dev-10-1.\n",
            "Preparing to unpack .../36-cuda-nvjpeg-dev-10-1_10.1.105-1_amd64.deb ...\n",
            "Unpacking cuda-nvjpeg-dev-10-1 (10.1.105-1) ...\n",
            "Selecting previously unselected package cuda-nsight-compute-10-1.\n",
            "Preparing to unpack .../37-cuda-nsight-compute-10-1_10.1.105-1_amd64.deb ...\n",
            "Unpacking cuda-nsight-compute-10-1 (10.1.105-1) ...\n",
            "Selecting previously unselected package cuda-nsight-systems-10-1.\n",
            "Preparing to unpack .../38-cuda-nsight-systems-10-1_10.1.105-1_amd64.deb ...\n",
            "Unpacking cuda-nsight-systems-10-1 (10.1.105-1) ...\n",
            "Selecting previously unselected package cuda-nvgraph-10-1.\n",
            "Preparing to unpack .../39-cuda-nvgraph-10-1_10.1.105-1_amd64.deb ...\n",
            "Unpacking cuda-nvgraph-10-1 (10.1.105-1) ...\n",
            "Selecting previously unselected package cuda-nvgraph-dev-10-1.\n",
            "Preparing to unpack .../40-cuda-nvgraph-dev-10-1_10.1.105-1_amd64.deb ...\n",
            "Unpacking cuda-nvgraph-dev-10-1 (10.1.105-1) ...\n",
            "Selecting previously unselected package cuda-visual-tools-10-1.\n",
            "Preparing to unpack .../41-cuda-visual-tools-10-1_10.1.105-1_amd64.deb ...\n",
            "Unpacking cuda-visual-tools-10-1 (10.1.105-1) ...\n",
            "Selecting previously unselected package cuda-tools-10-1.\n",
            "Preparing to unpack .../42-cuda-tools-10-1_10.1.105-1_amd64.deb ...\n",
            "Unpacking cuda-tools-10-1 (10.1.105-1) ...\n",
            "Selecting previously unselected package cuda-samples-10-1.\n",
            "Preparing to unpack .../43-cuda-samples-10-1_10.1.105-1_amd64.deb ...\n",
            "Unpacking cuda-samples-10-1 (10.1.105-1) ...\n",
            "Selecting previously unselected package cuda-documentation-10-1.\n",
            "Preparing to unpack .../44-cuda-documentation-10-1_10.1.105-1_amd64.deb ...\n",
            "Unpacking cuda-documentation-10-1 (10.1.105-1) ...\n",
            "Selecting previously unselected package cuda-libraries-dev-10-1.\n",
            "Preparing to unpack .../45-cuda-libraries-dev-10-1_10.1.105-1_amd64.deb ...\n",
            "Unpacking cuda-libraries-dev-10-1 (10.1.105-1) ...\n",
            "Selecting previously unselected package cuda-toolkit-10-1.\n",
            "Preparing to unpack .../46-cuda-toolkit-10-1_10.1.105-1_amd64.deb ...\n",
            "Unpacking cuda-toolkit-10-1 (10.1.105-1) ...\n",
            "Selecting previously unselected package cuda-libraries-10-1.\n",
            "Preparing to unpack .../47-cuda-libraries-10-1_10.1.105-1_amd64.deb ...\n",
            "Unpacking cuda-libraries-10-1 (10.1.105-1) ...\n",
            "Selecting previously unselected package cuda-runtime-10-1.\n",
            "Preparing to unpack .../48-cuda-runtime-10-1_10.1.105-1_amd64.deb ...\n",
            "Unpacking cuda-runtime-10-1 (10.1.105-1) ...\n",
            "Selecting previously unselected package cuda-demo-suite-10-1.\n",
            "Preparing to unpack .../49-cuda-demo-suite-10-1_10.1.105-1_amd64.deb ...\n",
            "Unpacking cuda-demo-suite-10-1 (10.1.105-1) ...\n",
            "Selecting previously unselected package cuda-10-1.\n",
            "Preparing to unpack .../50-cuda-10-1_10.1.105-1_amd64.deb ...\n",
            "Unpacking cuda-10-1 (10.1.105-1) ...\n",
            "Selecting previously unselected package cuda.\n",
            "Preparing to unpack .../51-cuda_10.1.105-1_amd64.deb ...\n",
            "Unpacking cuda (10.1.105-1) ...\n",
            "Setting up cuda-license-10-1 (10.1.105-1) ...\n",
            "*** LICENSE AGREEMENT ***\n",
            "By using this software you agree to fully comply with the terms and \n",
            "conditions of the EULA (End User License Agreement). The EULA is located\n",
            "at /usr/local/cuda-10.1/doc/EULA.txt. The EULA can also be found at\n",
            "http://docs.nvidia.com/cuda/eula/index.html. If you do not agree to the\n",
            "terms and conditions of the EULA, do not use the software.\n",
            "\n",
            "Setting up cuda-cusparse-10-1 (10.1.105-1) ...\n",
            "Setting up cuda-nvjpeg-10-1 (10.1.105-1) ...\n",
            "Setting up cuda-nsight-10-1 (10.1.105-1) ...\n",
            "Setting up cuda-nvdisasm-10-1 (10.1.105-1) ...\n",
            "Setting up cuda-nvml-dev-10-1 (10.1.105-1) ...\n",
            "Setting up cuda-sanitizer-api-10-1 (10.1.105-1) ...\n",
            "Setting up cuda-nvjpeg-dev-10-1 (10.1.105-1) ...\n",
            "Setting up cuda-cufft-10-1 (10.1.105-1) ...\n",
            "Setting up cuda-nvprof-10-1 (10.1.105-1) ...\n",
            "Setting up cuda-nvrtc-10-1 (10.1.105-1) ...\n",
            "Setting up libcublas10 (10.1.0.105-1) ...\n",
            "Setting up libcublas-dev (10.1.0.105-1) ...\n",
            "Setting up cuda-npp-10-1 (10.1.105-1) ...\n",
            "Setting up cuda-cufft-dev-10-1 (10.1.105-1) ...\n",
            "Setting up cuda-nvvp-10-1 (10.1.105-1) ...\n",
            "Setting up cuda-driver-dev-10-1 (10.1.105-1) ...\n",
            "Setting up cuda-cuobjdump-10-1 (10.1.105-1) ...\n",
            "Setting up cuda-nsight-systems-10-1 (10.1.105-1) ...\n",
            "Setting up cuda-gdb-10-1 (10.1.105-1) ...\n",
            "Setting up cuda-nsight-compute-10-1 (10.1.105-1) ...\n",
            "Setting up cuda-cudart-10-1 (10.1.105-1) ...\n",
            "Setting up cuda-npp-dev-10-1 (10.1.105-1) ...\n",
            "Setting up cuda-cusolver-10-1 (10.1.105-1) ...\n",
            "Setting up cuda-misc-headers-10-1 (10.1.105-1) ...\n",
            "Setting up cuda-nvtx-10-1 (10.1.105-1) ...\n",
            "Setting up cuda-curand-10-1 (10.1.105-1) ...\n",
            "Setting up cuda-cusparse-dev-10-1 (10.1.105-1) ...\n",
            "Setting up cuda-gpu-library-advisor-10-1 (10.1.105-1) ...\n",
            "Setting up cuda-nvgraph-10-1 (10.1.105-1) ...\n",
            "Setting up cuda-nvprune-10-1 (10.1.105-1) ...\n",
            "Setting up cuda-memcheck-10-1 (10.1.105-1) ...\n",
            "Setting up cuda-cudart-dev-10-1 (10.1.105-1) ...\n",
            "Setting up cuda-nvrtc-dev-10-1 (10.1.105-1) ...\n",
            "Setting up cuda-curand-dev-10-1 (10.1.105-1) ...\n",
            "Setting up cuda-cusolver-dev-10-1 (10.1.105-1) ...\n",
            "Setting up cuda-nvgraph-dev-10-1 (10.1.105-1) ...\n",
            "Setting up cuda-libraries-10-1 (10.1.105-1) ...\n",
            "Setting up cuda-nvcc-10-1 (10.1.105-1) ...\n",
            "Setting up cuda-runtime-10-1 (10.1.105-1) ...\n",
            "Setting up cuda-compiler-10-1 (10.1.105-1) ...\n",
            "Setting up cuda-demo-suite-10-1 (10.1.105-1) ...\n",
            "Setting up cuda-visual-tools-10-1 (10.1.105-1) ...\n",
            "Setting up cuda-libraries-dev-10-1 (10.1.105-1) ...\n",
            "Setting up cuda-samples-10-1 (10.1.105-1) ...\n",
            "Setting up cuda-cupti-10-1 (10.1.105-1) ...\n",
            "Setting up cuda-documentation-10-1 (10.1.105-1) ...\n",
            "Setting up cuda-command-line-tools-10-1 (10.1.105-1) ...\n",
            "Setting up cuda-tools-10-1 (10.1.105-1) ...\n",
            "Setting up cuda-toolkit-10-1 (10.1.105-1) ...\n",
            "Setting up cuda-10-1 (10.1.105-1) ...\n",
            "Setting up cuda (10.1.105-1) ...\n",
            "Processing triggers for libc-bin (2.27-3ubuntu1) ...\n"
          ],
          "name": "stdout"
        }
      ]
    },
    {
      "metadata": {
        "id": "6dhgaJ_inbzx",
        "colab_type": "code",
        "outputId": "4e5f8ab5-8b30-438b-94f5-2faaf22cf93f",
        "colab": {
          "base_uri": "https://localhost:8080/",
          "height": 378
        }
      },
      "cell_type": "code",
      "source": [
        "!pip install http://download.pytorch.org/whl/cu92/torch-0.4.1-cp36-cp36m-linux_x86_64.whl \n",
        "!pip install torchvision"
      ],
      "execution_count": 0,
      "outputs": [
        {
          "output_type": "stream",
          "text": [
            "Collecting torch==0.4.1 from http://download.pytorch.org/whl/cu92/torch-0.4.1-cp36-cp36m-linux_x86_64.whl\n",
            "\u001b[?25l  Downloading http://download.pytorch.org/whl/cu92/torch-0.4.1-cp36-cp36m-linux_x86_64.whl (512.6MB)\n",
            "\u001b[K    100% |████████████████████████████████| 512.6MB 94.9MB/s \n",
            "\u001b[31mfastai 1.0.51 has requirement torch>=1.0.0, but you'll have torch 0.4.1 which is incompatible.\u001b[0m\n",
            "\u001b[?25hInstalling collected packages: torch\n",
            "  Found existing installation: torch 0.3.0.post4\n",
            "    Uninstalling torch-0.3.0.post4:\n",
            "      Successfully uninstalled torch-0.3.0.post4\n",
            "Successfully installed torch-0.4.1\n"
          ],
          "name": "stdout"
        },
        {
          "output_type": "display_data",
          "data": {
            "application/vnd.colab-display-data+json": {
              "pip_warning": {
                "packages": [
                  "torch"
                ]
              }
            }
          },
          "metadata": {
            "tags": []
          }
        },
        {
          "output_type": "stream",
          "text": [
            "Requirement already satisfied: torchvision in /usr/local/lib/python3.6/dist-packages (0.2.2.post3)\n",
            "Requirement already satisfied: numpy in /usr/local/lib/python3.6/dist-packages (from torchvision) (1.16.2)\n",
            "Requirement already satisfied: torch in /usr/local/lib/python3.6/dist-packages (from torchvision) (0.4.1)\n",
            "Requirement already satisfied: six in /usr/local/lib/python3.6/dist-packages (from torchvision) (1.11.0)\n",
            "Requirement already satisfied: pillow>=4.1.1 in /usr/local/lib/python3.6/dist-packages (from torchvision) (4.3.0)\n",
            "Requirement already satisfied: olefile in /usr/local/lib/python3.6/dist-packages (from pillow>=4.1.1->torchvision) (0.46)\n"
          ],
          "name": "stdout"
        }
      ]
    },
    {
      "metadata": {
        "id": "OhIPDyAWpQaP",
        "colab_type": "code",
        "outputId": "8257c2a7-57f5-4816-b6c8-e09258e01fab",
        "colab": {
          "base_uri": "https://localhost:8080/",
          "height": 51
        }
      },
      "cell_type": "code",
      "source": [
        "!pip install _ext"
      ],
      "execution_count": 0,
      "outputs": [
        {
          "output_type": "stream",
          "text": [
            "\u001b[31mInvalid requirement: '_ext'\n",
            "\u001b[0m\n"
          ],
          "name": "stdout"
        }
      ]
    },
    {
      "metadata": {
        "id": "yRAjekaYir04",
        "colab_type": "code",
        "outputId": "c6f2e74a-cfa1-4397-ef35-69954b48eca1",
        "colab": {
          "base_uri": "https://localhost:8080/",
          "height": 139
        }
      },
      "cell_type": "code",
      "source": [
        "!python run.py"
      ],
      "execution_count": 0,
      "outputs": [
        {
          "output_type": "stream",
          "text": [
            "Traceback (most recent call last):\n",
            "  File \"run.py\", line 16, in <module>\n",
            "    from SeparableConvolution import SeparableConvolution # the custom SeparableConvolution layer\n",
            "  File \"/content/SeparableConvolution.py\", line 3, in <module>\n",
            "    import _ext.cunnex\n",
            "ModuleNotFoundError: No module named '_ext'\n"
          ],
          "name": "stdout"
        }
      ]
    }
  ]
}